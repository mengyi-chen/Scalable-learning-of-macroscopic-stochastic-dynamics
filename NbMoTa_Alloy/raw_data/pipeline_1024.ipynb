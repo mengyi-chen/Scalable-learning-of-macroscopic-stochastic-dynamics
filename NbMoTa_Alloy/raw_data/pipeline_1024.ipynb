{
 "cells": [
  {
   "cell_type": "code",
   "execution_count": null,
   "id": "8305abd1",
   "metadata": {},
   "outputs": [],
   "source": [
    "import pandas as pd\n",
    "import numpy as np\n",
    "import matplotlib.pyplot as plt\n",
    "import os, sys\n",
    "sys.path.append('../')\n",
    "import re\n",
    "import torch\n",
    "from utils.utils import *\n",
    "from tqdm import tqdm\n",
    "set_seed(42)"
   ]
  },
  {
   "cell_type": "code",
   "execution_count": null,
   "id": "283553b5",
   "metadata": {},
   "outputs": [],
   "source": [
    "def extract_number(filename):\n",
    "    match = re.search(r'output_(\\d+)\\.npy', filename)\n",
    "    if match:\n",
    "        return int(match.group(1))\n",
    "    else:\n",
    "        return float('inf')"
   ]
  },
  {
   "cell_type": "markdown",
   "id": "403448f4",
   "metadata": {},
   "source": [
    "#  Load the dataset"
   ]
  },
  {
   "cell_type": "code",
   "execution_count": null,
   "id": "f348dccb",
   "metadata": {},
   "outputs": [],
   "source": [
    "N_atoms = 1024\n",
    "output_dir = '../data/output_atoms_1024_steps_2000000'"
   ]
  },
  {
   "cell_type": "code",
   "execution_count": null,
   "id": "b5d28930",
   "metadata": {},
   "outputs": [],
   "source": [
    "def preprocess(output_dir):\n",
    "    for folder in tqdm(os.listdir(output_dir)):\n",
    "        T = int(folder.split('_')[1])\n",
    "        folder_path = os.path.join(output_dir, folder)\n",
    "        log_path = os.path.join(folder_path, 'chemical_order.csv')\n",
    "        df = pd.read_csv(log_path)\n",
    "        \n",
    "        # ========= macroscopic data =========\n",
    "        macro_val = np.array([\n",
    "            df['delta_NbNb'].values,\n",
    "            df['delta_NbMo'].values,\n",
    "            df['delta_NbTa'].values,\n",
    "            df['delta_MoMo'].values,\n",
    "            df['delta_MoTa'].values,\n",
    "            df['delta_TaTa'].values\n",
    "        ]).T\n",
    "\n",
    "        # ========= T,steps,time data =========\n",
    "        time_path = os.path.join(folder_path, 'log.csv')\n",
    "        df_time = pd.read_csv(time_path)\n",
    "        time = df_time['time'].values\n",
    "        time = np.insert(time, 0, 0.0)  # Insert initial time step\n",
    "        T_state = np.ones(macro_val.shape[0], dtype=np.int32) * int(T)\n",
    "        step = df['step'].values\n",
    "\n",
    "        config_path = os.path.join(folder_path, 'config_data')\n",
    "        file_path = [f for f in os.listdir(config_path) if f.endswith('.npy')]\n",
    "        file_path = sorted(file_path, key=extract_number)\n",
    "        \n",
    "        # ========= microscopic data =========\n",
    "        # micro_val = []\n",
    "        # for file in file_path:\n",
    "        #     file_full_path = os.path.join(config_path, file)\n",
    "        #     grid = np.load(file_full_path)\n",
    "        #     micro_val.append(grid)\n",
    "        # micro_val = np.array(micro_val)\n",
    "\n",
    "        # ========= save data =========\n",
    "        # np.save(os.path.join(folder_path, 'micro_val.npy'), micro_val)\n",
    "        np.save(os.path.join(folder_path, 'macro_val.npy'), macro_val)\n",
    "        np.save(os.path.join(folder_path, 'time.npy'), time)\n",
    "        np.save(os.path.join(folder_path, 'T_state.npy'), T_state)\n",
    "        np.save(os.path.join(folder_path, 'step.npy'), step)"
   ]
  },
  {
   "cell_type": "code",
   "execution_count": null,
   "id": "e4969272",
   "metadata": {},
   "outputs": [],
   "source": [
    "preprocess(output_dir)"
   ]
  },
  {
   "cell_type": "code",
   "execution_count": null,
   "id": "88098cca",
   "metadata": {},
   "outputs": [],
   "source": [
    "\n",
    "micro_state = [] \n",
    "macro_state = []\n",
    "T_state = []\n",
    "time_state = []\n",
    "step_state = []\n",
    "\n",
    "for folder in tqdm(os.listdir(output_dir)):\n",
    "    T = int(folder.split('_')[1])\n",
    "    folder_path = os.path.join(output_dir, folder)\n",
    "\n",
    "    micro_state.append(np.load(os.path.join(folder_path, 'micro_val.npy')))\n",
    "    macro_state.append(np.load(os.path.join(folder_path, 'macro_val.npy')))\n",
    "    # macro_state_partial.append(np.load(os.path.join(folder_path, 'macro_val_partial.npy')))\n",
    "    time_state.append(np.load(os.path.join(folder_path, 'time.npy')))\n",
    "    T_state.append(np.load(os.path.join(folder_path, 'T_state.npy')))\n",
    "    step_state.append(np.load(os.path.join(folder_path, 'step.npy')))\n",
    "\n",
    "\n",
    "micro_state = np.stack(micro_state, axis=0)\n",
    "macro_state = np.stack(macro_state, axis=0)\n",
    "time_state = np.stack(time_state, axis=0)\n",
    "T_state = np.stack(T_state, axis=0)\n",
    "step_state = np.stack(step_state, axis=0)"
   ]
  },
  {
   "cell_type": "code",
   "execution_count": null,
   "id": "63c6ff8d",
   "metadata": {},
   "outputs": [],
   "source": [
    "# micro_state.shape, \n",
    "macro_state.shape, T_state.shape, time_state.shape, step_state.shape"
   ]
  },
  {
   "cell_type": "code",
   "execution_count": null,
   "id": "2821573a",
   "metadata": {},
   "outputs": [],
   "source": [
    "final_time = {}\n",
    "T_unique = np.unique(T_state[:, 0])\n",
    "for T in T_unique:\n",
    "    idx = np.where(T_state[:, 0] == T)[0]\n",
    "    steps = np.unique(step_state[idx, -1])\n",
    "    final_time[T.item()] = time_state[idx, -1].max().item() "
   ]
  },
  {
   "cell_type": "code",
   "execution_count": null,
   "id": "99b5e2d0",
   "metadata": {},
   "outputs": [],
   "source": [
    "def scale_function(T):\n",
    "    # Convert T to numpy array if it isn't already\n",
    "    T = np.asarray(T)\n",
    "    \n",
    "    # Handle scalar case\n",
    "    if T.ndim == 0:\n",
    "        return 1 / final_time[int(T.item())]\n",
    "    \n",
    "    # Handle array case\n",
    "    result = np.zeros_like(T, dtype=float)\n",
    "    for i, temp in enumerate(T.flat):\n",
    "        result.flat[i] = 1 / final_time[int(temp)]\n",
    "    \n",
    "    return result"
   ]
  },
  {
   "cell_type": "code",
   "execution_count": null,
   "id": "9117c5c5",
   "metadata": {},
   "outputs": [],
   "source": [
    "final_time_scaled = {}\n",
    "for key, val in final_time.items():\n",
    "    # final_time_scaled[key] = scale_function(key) * val\n",
    "    final_time_scaled[key] = scale_function(key) * val"
   ]
  },
  {
   "cell_type": "code",
   "execution_count": null,
   "id": "3f03c007",
   "metadata": {},
   "outputs": [],
   "source": [
    "plt.figure(figsize=(8,5))\n",
    "plt.scatter(final_time_scaled.keys(), final_time_scaled.values(), label=\"data\", color=\"C0\")\n",
    "plt.xlabel(\"Temperature (K)\")\n",
    "plt.ylabel(\"Final time (ps)\")\n",
    "plt.legend()\n",
    "plt.grid(True, which=\"both\", ls=\"--\", alpha=0.5)\n",
    "plt.show()"
   ]
  },
  {
   "cell_type": "code",
   "execution_count": null,
   "id": "f0d70678",
   "metadata": {},
   "outputs": [],
   "source": [
    "T = 800\n",
    "indices = np.where(T_state[:, 0] == T)[0]\n",
    "fig = plt.figure(figsize=(40, 6))\n",
    "for i in range(6):\n",
    "    axes = fig.add_subplot(1, 6, i+1)\n",
    "    for j in indices:\n",
    "        axes.plot(time_state[j], macro_state[j, :, i])\n",
    "    axes.set_xlabel('Step')\n",
    "    axes.set_ylabel(f'Delta_{i}')\n",
    "    axes.hlines(0, 0, np.max(time_state[indices]), colors='black', linestyles='dashed', linewidth=1)\n",
    "    axes.set_ylim(-3.5, 3.5)\n",
    "    plt.yticks(fontsize=20)\n",
    "    plt.grid()\n",
    "plt.title(f'T = {T} K')\n",
    "plt.tight_layout()"
   ]
  },
  {
   "cell_type": "code",
   "execution_count": null,
   "id": "c9574744",
   "metadata": {},
   "outputs": [],
   "source": [
    "scale_value = scale_function(T_state)\n",
    "time_state_scaled = time_state * scale_value"
   ]
  },
  {
   "cell_type": "code",
   "execution_count": null,
   "id": "f12270b8",
   "metadata": {},
   "outputs": [],
   "source": [
    "macro_state = torch.tensor(macro_state, dtype=torch.float32)\n",
    "micro_state = torch.tensor(micro_state, dtype=torch.int32)\n",
    "T_state = torch.tensor(T_state, dtype=torch.int32)\n",
    "time_state = torch.tensor(time_state, dtype=torch.float32)\n",
    "step_state = torch.tensor(step_state, dtype=torch.int32)\n",
    "time_state_scaled = torch.tensor(time_state_scaled, dtype=torch.float32)"
   ]
  },
  {
   "cell_type": "code",
   "execution_count": null,
   "id": "676451c2",
   "metadata": {},
   "outputs": [],
   "source": [
    "# save the data\n",
    "save_dir = f'../data/atoms_{N_atoms}'\n",
    "if not os.path.exists(save_dir):\n",
    "    os.makedirs(save_dir)\n",
    "\n",
    "# ========= save trainingdata =========\n",
    "torch.save(micro_state, f'{save_dir}/micro_state.pt')\n",
    "torch.save(macro_state, f'{save_dir}/macro_state.pt')\n",
    "torch.save(T_state, f'{save_dir}/T_state.pt')\n",
    "torch.save(time_state, f'{save_dir}/time_state.pt')\n",
    "torch.save(step_state, f'{save_dir}/step_state.pt')\n",
    "torch.save(time_state_scaled, f'{save_dir}/time_state_scaled.pt')\n"
   ]
  },
  {
   "cell_type": "code",
   "execution_count": null,
   "id": "be99da9f",
   "metadata": {},
   "outputs": [],
   "source": []
  }
 ],
 "metadata": {
  "kernelspec": {
   "display_name": "testenv",
   "language": "python",
   "name": "python3"
  },
  "language_info": {
   "codemirror_mode": {
    "name": "ipython",
    "version": 3
   },
   "file_extension": ".py",
   "mimetype": "text/x-python",
   "name": "python",
   "nbconvert_exporter": "python",
   "pygments_lexer": "ipython3",
   "version": "3.9.21"
  }
 },
 "nbformat": 4,
 "nbformat_minor": 5
}
