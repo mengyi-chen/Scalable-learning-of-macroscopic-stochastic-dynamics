{
 "cells": [
  {
   "cell_type": "code",
   "execution_count": null,
   "id": "8305abd1",
   "metadata": {},
   "outputs": [],
   "source": [
    "import pandas as pd\n",
    "import numpy as np\n",
    "import matplotlib.pyplot as plt\n",
    "import os, sys\n",
    "import re\n",
    "import torch\n",
    "from tqdm import tqdm\n",
    "# from sklearn.model_selection import train_test_split\n",
    "import warnings \n",
    "import seaborn as sns\n",
    "warnings.filterwarnings('ignore')"
   ]
  },
  {
   "cell_type": "code",
   "execution_count": null,
   "id": "be99da9f",
   "metadata": {},
   "outputs": [],
   "source": [
    "N_atoms = 1024\n",
    "T = 2000"
   ]
  },
  {
   "cell_type": "code",
   "execution_count": null,
   "id": "06ce4087",
   "metadata": {},
   "outputs": [],
   "source": [
    "macro_state_1024 = torch.load('../data/atoms_1024/macro_state.pt')\n",
    "T_state_1024 = torch.load('../data/atoms_1024/T_state.pt')\n",
    "time_state_1024 = torch.load('../data/atoms_1024/time_state.pt')\n",
    "time_state_scaled_1024 = torch.load('../data/atoms_1024/time_state_scaled.pt')\n",
    "idx_1024 = torch.where(T_state_1024[:, 0] == T)[0]"
   ]
  },
  {
   "cell_type": "code",
   "execution_count": null,
   "id": "7bb9c16f",
   "metadata": {},
   "outputs": [],
   "source": [
    "macro_state_8192 = torch.load('../data/atoms_8192/macro_state.pt')\n",
    "macro_state_partial_8192 = torch.load('../data/atoms_8192/macro_state_partial.pt')\n",
    "T_state_8192 = torch.load('../data/atoms_8192/T_state.pt')\n",
    "time_state_8192 = torch.load('../data/atoms_8192/time_state.pt')\n",
    "time_state_scaled_8192 = torch.load('../data/atoms_8192/time_state_scaled.pt')\n",
    "idx_8192 = torch.where(T_state_8192[:, 0] == T)[0]"
   ]
  },
  {
   "cell_type": "code",
   "execution_count": null,
   "id": "ea03a73a",
   "metadata": {},
   "outputs": [],
   "source": [
    "# folder = '../data/partial_sampling_atoms_8192'\n",
    "folder = '../data/partial_sampling_atoms_65536'\n",
    "kmc_time = np.load(os.path.join(folder, f'kmc_times_T_{T}_seed_0.npy'))\n",
    "z1_train_partial = np.load(os.path.join(folder, f'z1_train_partial_T_{T}_seed_0.npy'))\n",
    "z0_train = np.load(os.path.join(folder, f'z0_train_T_{T}_seed_0.npy'))\n",
    "step = np.load(os.path.join(folder, f'step_T_{T}_seed_0.npy'))"
   ]
  },
  {
   "cell_type": "code",
   "execution_count": null,
   "id": "d53ed8b4",
   "metadata": {},
   "outputs": [],
   "source": [
    "fig = plt.figure(figsize=(40, 6))\n",
    "for i in range(6):\n",
    "    axes = fig.add_subplot(1, 6, i+1)\n",
    "    for j in idx_1024:\n",
    "        axes.plot(time_state_1024[j], macro_state_1024[j, :, i], 'r')\n",
    "        # axes.plot(macro_state_1024[j, :, i], 'r')\n",
    "    for j in idx_8192:\n",
    "        axes.plot(time_state_8192[j], macro_state_8192[j, :, i], 'b')\n",
    "        # axes.plot(macro_state_8192[j, :, i], 'b')\n",
    "    if idx_8192.shape[0] > 0:\n",
    "        axes.set_xlim(0, torch.max(time_state_8192[idx_8192]))\n",
    "\n",
    "    axes.set_xlabel('Step', fontsize=20)\n",
    "    axes.set_ylabel(f'Delta_{i}', fontsize=20)\n",
    "    axes.set_ylim(-3.5, 3.5)\n",
    "    axes.tick_params(axis='x', labelsize=20)\n",
    "    axes.tick_params(axis='y', labelsize=20)\n",
    "plt.title(f'T = {T} K')\n",
    "plt.tight_layout()"
   ]
  },
  {
   "cell_type": "code",
   "execution_count": null,
   "id": "acf6a00d",
   "metadata": {},
   "outputs": [],
   "source": [
    "torch.mean(macro_state_1024[idx_1024, -1], 0)"
   ]
  },
  {
   "cell_type": "code",
   "execution_count": null,
   "id": "e2fa4a89",
   "metadata": {},
   "outputs": [],
   "source": [
    "time_state_1024.shape"
   ]
  },
  {
   "cell_type": "code",
   "execution_count": null,
   "id": "14749258",
   "metadata": {},
   "outputs": [],
   "source": [
    "fig = plt.figure(figsize=(40, 6))\n",
    "for i in range(6):\n",
    "    axes = fig.add_subplot(1, 6, i+1)\n",
    "    \n",
    "    # Plot distribution using histplot with normalization\n",
    "    sns.histplot(macro_state_1024[idx_1024, :-1, i].flatten(),\n",
    "                 ax=axes, kde=True, bins=50, alpha=0.5, color='skyblue', label='Full Sampling 1024 atoms', stat='density')\n",
    "    \n",
    "    sns.histplot(macro_state_8192[idx_8192, :-1, i].flatten(),\n",
    "                 ax=axes, kde=True, bins=50, alpha=0.5, color='tab:green', label='Full Sampling 8192 atoms', stat='density')\n",
    "\n",
    "    sns.histplot(z0_train[:, i].flatten(),\n",
    "                 ax=axes, kde=True, bins=50, alpha=0.5, color='tab:orange', label='Partial Sampling', stat='density')\n",
    "\n",
    "    axes.set_title(f'Component {i}')\n",
    "    axes.set_xlabel('Normalized Delta')\n",
    "    axes.set_ylabel('Density')\n",
    "    axes.tick_params(axis='x', labelsize=20)\n",
    "    axes.tick_params(axis='y', labelsize=20)\n",
    "    # axes.legend()\n",
    "\n",
    "plt.tight_layout()\n",
    "plt.show()"
   ]
  },
  {
   "cell_type": "code",
   "execution_count": null,
   "id": "946fc487",
   "metadata": {},
   "outputs": [],
   "source": [
    "z0_train.shape"
   ]
  },
  {
   "cell_type": "code",
   "execution_count": null,
   "id": "e1bdb3d4",
   "metadata": {},
   "outputs": [],
   "source": [
    "macro_state_partial_8192[idx_8192, :, i].shape"
   ]
  },
  {
   "cell_type": "code",
   "execution_count": null,
   "id": "b064e50c",
   "metadata": {},
   "outputs": [],
   "source": [
    "# idx = 6\n",
    "fig = plt.figure(figsize=(40, 6))\n",
    "for i in range(6):\n",
    "    axes = fig.add_subplot(1, 6, i+1)\n",
    "    \n",
    "    # Plot distribution using histplot with normalization\n",
    "    # sns.histplot((macro_state_partial_8192[idx_8192, :, i] - macro_state_8192[idx_8192, :-1, i]).flatten() / \\\n",
    "    #              np.sqrt((time_state_8192[idx_8192, 1:] - time_state_8192[idx_8192, :-1]).flatten()),\n",
    "    #              ax=axes, kde=True, bins=50, alpha=0.5, color='skyblue', label='Full Sampling', stat='density')\n",
    "\n",
    "    sns.histplot((z1_train_partial[:, i] - z0_train[:, i]) / np.sqrt(kmc_time[:]),\n",
    "                 ax=axes, kde=True, bins=50, alpha=0.5, color='tab:orange', label='Partial Sampling', stat='density')\n",
    "\n",
    "    axes.set_title(f'Component {i}')\n",
    "    axes.set_xlabel('Normalized Delta')\n",
    "    axes.set_ylabel('Density')\n",
    "    # axes.legend()\n",
    "\n",
    "plt.tight_layout()\n",
    "plt.show()"
   ]
  },
  {
   "cell_type": "code",
   "execution_count": null,
   "id": "e191ba45",
   "metadata": {},
   "outputs": [],
   "source": [
    "fig = plt.figure(figsize=(8, 6))\n",
    "axes = fig.add_subplot(1, 1, 1)\n",
    "\n",
    "sns.kdeplot(kmc_time, ax=axes, alpha=0.5, color='skyblue', label='Partial Sampling')\n",
    "sns.kdeplot((time_state_8192[idx_8192, 1:] - time_state_8192[idx_8192, :-1]).flatten(), ax=axes, alpha=0.5, color='tab:orange', label='Partial Sampling')\n",
    "sns.kdeplot((time_state_1024[idx_1024, 1:] - time_state_1024[idx_1024, :-1]).flatten(), ax=axes, alpha=0.5, color='tab:red', label='Partial Sampling')\n",
    "\n",
    "axes.set_title(f'Component {i}')\n",
    "axes.set_xlabel('Normalized Delta')\n",
    "axes.set_ylabel('Density')\n",
    "# axes.legend()\n",
    "\n",
    "plt.tight_layout()\n",
    "plt.show()"
   ]
  },
  {
   "cell_type": "code",
   "execution_count": null,
   "id": "71fab445",
   "metadata": {},
   "outputs": [],
   "source": [
    "# folder = '../data/partial_sampling_atoms_8192'\n",
    "# folder = '../data/partial_sampling_atoms_65536'\n",
    "folder = '../data/partial_sampling_atoms_524288'\n",
    "\n",
    "time_step_list = []\n",
    "z1_train_partial_list = []\n",
    "z0_train_list = []\n",
    "T_list = []\n",
    "step_list = []\n",
    "\n",
    "# for T in [300, 400, 500, 600, 700, 800, 900, 1000, 1200, 1400, 1600, 1800, 2000, 2200, 2400, 2600, 2800, 3000]:\n",
    "# for T in [1600, 1800, 2000, 2200, 2400, 2600, 2800, 3000]:\n",
    "for T in [2000]:\n",
    "    # for seed in range(10):\n",
    "    for seed in range(100):\n",
    "\n",
    "        kmc_time = np.load(os.path.join(folder, f'kmc_times_T_{T}_seed_{seed}.npy'))\n",
    "        z1_train_partial = np.load(os.path.join(folder, f'z1_train_partial_T_{T}_seed_{seed}.npy'))\n",
    "        z0_train = np.load(os.path.join(folder, f'z0_train_T_{T}_seed_{seed}.npy'))\n",
    "        step = np.load(os.path.join(folder, f'step_T_{T}_seed_{seed}.npy'))\n",
    "\n",
    "        time_step_list.append(kmc_time)\n",
    "        z1_train_partial_list.append(z1_train_partial)\n",
    "        z0_train_list.append(z0_train)\n",
    "        T_list.append(T * np.ones_like(kmc_time))\n",
    "\n",
    "        # ALERT: since we are using 8192 atoms, we need to multiply the step by 8\n",
    "        # step_list.append(step * 8)\n",
    "        # step_list.append(step * 64)\n",
    "        step_list.append(step * 64 * 8)\n",
    "\n",
    "T_list = np.stack(T_list, axis=0)\n",
    "time_step_list = np.stack(time_step_list, axis=0)\n",
    "z1_train_partial_list = np.stack(z1_train_partial_list, axis=0)\n",
    "z0_train_list = np.stack(z0_train_list, axis=0)\n",
    "step_list = np.stack(step_list, axis=0)\n",
    "\n",
    "\n",
    "T_list.shape, z1_train_partial_list.shape, z0_train_list.shape, step_list.shape"
   ]
  },
  {
   "cell_type": "code",
   "execution_count": null,
   "id": "823ce1ed",
   "metadata": {},
   "outputs": [],
   "source": [
    "plt.scatter(T_list.flatten(), step_list.flatten(), alpha=0.5, s=0.01)\n",
    "plt.yscale('log')\n",
    "plt.show()"
   ]
  },
  {
   "cell_type": "code",
   "execution_count": null,
   "id": "02384218",
   "metadata": {},
   "outputs": [],
   "source": [
    "final_time = {}\n",
    "T_unique = np.unique(T_list[:, 0])\n",
    "for T in T_unique:\n",
    "    idx = np.where(T_list[:, 0] == T)[0]\n",
    "    steps = step_list[idx]\n",
    "    time_step = time_step_list[idx]\n",
    "    mean_time = np.mean(time_step / steps)\n",
    "    # print(f'T = {T}, mean time per step: {mean_time}')\n",
    "\n",
    "    # if T <= 1000:\n",
    "    #     total_time = mean_time * 2e7 \n",
    "    # else:\n",
    "    #     total_time = mean_time * 2e6\n",
    "    # # FIXME: \n",
    "    # total_time = mean_time * 2e6 \n",
    "    # total_time = mean_time * 2e6 * 8\n",
    "    total_time = mean_time * 2e6 * 64\n",
    "    final_time[T] = total_time"
   ]
  },
  {
   "cell_type": "code",
   "execution_count": null,
   "id": "a81fdce1",
   "metadata": {},
   "outputs": [],
   "source": [
    "def scale_function(T):\n",
    "    # Convert T to numpy array if it isn't already\n",
    "    T = np.asarray(T)\n",
    "    \n",
    "    # Handle scalar case\n",
    "    if T.ndim == 0:\n",
    "        return 1 / final_time[int(T.item())]\n",
    "    \n",
    "    # Handle array case\n",
    "    result = np.zeros_like(T, dtype=float)\n",
    "    for i, temp in enumerate(T.flat):\n",
    "        result.flat[i] = 1 / final_time[int(temp)]\n",
    "    \n",
    "    return result"
   ]
  },
  {
   "cell_type": "code",
   "execution_count": null,
   "id": "cdf0c5be",
   "metadata": {},
   "outputs": [],
   "source": [
    "final_time[2000]"
   ]
  },
  {
   "cell_type": "code",
   "execution_count": null,
   "id": "035c86f9",
   "metadata": {},
   "outputs": [],
   "source": [
    "# T = np.array(list(final_time.keys()), dtype=float)      # e.g. [200,300,…\n",
    "# t = np.array(list(final_time.values()), dtype=float)    # corresponding final times\n",
    "\n",
    "# # 2) prepare for linear fit:  y = ln t, x = 1/T\n",
    "# idx_high = np.where(T >= 900)[0]\n",
    "# x_high = 1.0 / T[idx_high]\n",
    "# y_high = np.log(t[idx_high])\n",
    "\n",
    "# idx_low = np.where(T < 900)[0]\n",
    "# x_low = 1.0 / T[idx_low]\n",
    "# y_low = np.log(t[idx_low])\n",
    "\n",
    "# # 3) do a 1st‐order polyfit: y ≈ m*x + b\n",
    "# m_high, b_high = np.polyfit(x_high, y_high, 1)\n",
    "# A_high = np.exp(b_high)                # prefactor\n",
    "# Ea_over_kB_high = m_high               # slope = Eₐ/k_B\n",
    "\n",
    "# print(f\"Arrhenius fit for high temperature: t = {A_high:.3e} · exp({Ea_over_kB_high:.1f}/T)\")\n",
    "\n",
    "# m_low, b_low = np.polyfit(x_low, y_low, 1)\n",
    "# A_low = np.exp(b_low)                # prefactor\n",
    "# Ea_over_kB_low = m_low               # slope = Eₐ/k_B\n",
    "# print(f\"Arrhenius fit for low temperature: t = {A_low:.3e} · exp({Ea_over_kB_low:.1f}/T)\")\n",
    "\n",
    "\n",
    "# # 4) compute fitted curve\n",
    "# t_fit_high = A_high * np.exp(Ea_over_kB_high / T[idx_high])\n",
    "# t_fit_low = A_low * np.exp(Ea_over_kB_low / T[idx_low])\n",
    "\n",
    "# # 5) plot data & fit\n",
    "# plt.figure(figsize=(8,5))\n",
    "# plt.scatter(T, t, label=\"data\", color=\"C0\")\n",
    "# plt.plot(T[idx_high], t_fit_high, label=\"Arrhenius fit (high T)\", color=\"C1\")\n",
    "# plt.plot(T[idx_low], t_fit_low, label=\"Arrhenius fit (low T)\", color=\"C3\")\n",
    "# plt.yscale(\"log\")\n",
    "# plt.xlabel(\"Temperature (K)\")\n",
    "# plt.ylabel(\"Final time (ps)\")\n",
    "# plt.title(\"Arrhenius fit of final time\")\n",
    "# plt.legend()\n",
    "# plt.grid(True, which=\"both\", ls=\"--\", alpha=0.5)\n",
    "# plt.show()"
   ]
  },
  {
   "cell_type": "code",
   "execution_count": null,
   "id": "06a5c88c",
   "metadata": {},
   "outputs": [],
   "source": [
    "# T = np.array(list(final_time.keys()), dtype=float)      # e.g. [200,300,…\n",
    "# t = np.array(list(final_time.values()), dtype=float)    # corresponding final times\n",
    "\n",
    "# # 2) prepare for linear fit:  y = ln t, x = 1/T\n",
    "# x_high = 1.0 / T[:]\n",
    "# y_high = np.log(t[:])\n",
    "\n",
    "# # 3) do a 1st‐order polyfit: y ≈ m*x + b\n",
    "# m_high, b_high = np.polyfit(x_high, y_high, 1)\n",
    "# A_high = np.exp(b_high)                # prefactor\n",
    "# Ea_over_kB_high = m_high               # slope = Eₐ/k_B\n",
    "\n",
    "# print(f\"Arrhenius fit for high temperature: t = {A_high:.3e} · exp({Ea_over_kB_high:.1f}/T)\")\n",
    "\n",
    "\n",
    "# # 4) compute fitted curve\n",
    "# t_fit_high = A_high * np.exp(Ea_over_kB_high / T[:])\n",
    "\n",
    "# # 5) plot data & fit\n",
    "# plt.figure(figsize=(8,5))\n",
    "# plt.scatter(T, t, label=\"data\", color=\"C0\")\n",
    "# plt.plot(T[:], t_fit_high, label=\"Arrhenius fit (high T)\", color=\"C1\")\n",
    "# plt.yscale(\"log\")\n",
    "# plt.xlabel(\"Temperature (K)\")\n",
    "# plt.ylabel(\"Final time (ps)\")\n",
    "# plt.title(\"Arrhenius fit of final time\")\n",
    "# plt.legend()\n",
    "# plt.grid(True, which=\"both\", ls=\"--\", alpha=0.5)\n",
    "# plt.show()"
   ]
  },
  {
   "cell_type": "code",
   "execution_count": null,
   "id": "c64ccf35",
   "metadata": {},
   "outputs": [],
   "source": [
    "# def scale_function(T):\n",
    "#     # Parameters for different temperature ranges\n",
    "#     # High temperature (>= 1400K)\n",
    "#     A_high = 2.198e-09\n",
    "#     Ea_over_kB_high = 19786.1\n",
    "\n",
    "#     # Low temperature (<= 600 k)\n",
    "#     A_low = 4.992e-06\n",
    "#     Ea_over_kB_low = 14436.1\n",
    "\n",
    "#     # Create boolean masks for temperature ranges\n",
    "#     high_temp_mask = T >= 900\n",
    "#     low_temp_mask = T < 900 \n",
    "    \n",
    "#     # Initialize result array\n",
    "#     result = np.zeros_like(T, dtype=float)\n",
    "    \n",
    "#     # Calculate scaling for high temperatures\n",
    "#     if np.any(high_temp_mask):\n",
    "#         result[high_temp_mask] = np.exp(-np.log(A_high) - Ea_over_kB_high/T[high_temp_mask])\n",
    "        \n",
    "#     # Calculate scaling for low temperatures\n",
    "#     if np.any(low_temp_mask):\n",
    "#         result[low_temp_mask] = np.exp(-np.log(A_low) - Ea_over_kB_low/T[low_temp_mask])\n",
    "    \n",
    "#     return result"
   ]
  },
  {
   "cell_type": "code",
   "execution_count": null,
   "id": "f892add1",
   "metadata": {},
   "outputs": [],
   "source": [
    "# def scale_function(T):\n",
    "#     # Parameters for different temperature ranges\n",
    "#     # A = 5.259e-09\n",
    "#     # Ea_over_kB = 17562.5\n",
    "#     # A = 4.753e-09\n",
    "#     A = 3.054e-09 \n",
    "\n",
    "#     # Ea_over_kB = 18143.9\n",
    "#     Ea_over_kB = 19184.8\n",
    "#     result = np.exp(-np.log(A) - Ea_over_kB / T)\n",
    "#     return result"
   ]
  },
  {
   "cell_type": "code",
   "execution_count": null,
   "id": "ea40389d",
   "metadata": {},
   "outputs": [],
   "source": [
    "final_time_scaled = {}\n",
    "for key, val in final_time.items():\n",
    "    # final_time_scaled[key] = scale_function(key) * val\n",
    "    final_time_scaled[key] = scale_function(key) * val"
   ]
  },
  {
   "cell_type": "code",
   "execution_count": null,
   "id": "a5f8dcab",
   "metadata": {},
   "outputs": [],
   "source": [
    "plt.figure(figsize=(8,5))\n",
    "plt.scatter(final_time_scaled.keys(), final_time_scaled.values(), label=\"data\", color=\"C0\")\n",
    "plt.xlabel(\"Temperature (K)\")\n",
    "plt.ylabel(\"Final time (ps)\")\n",
    "plt.legend()\n",
    "plt.grid(True, which=\"both\", ls=\"--\", alpha=0.5)\n",
    "plt.show()"
   ]
  },
  {
   "cell_type": "code",
   "execution_count": null,
   "id": "3f339def",
   "metadata": {},
   "outputs": [],
   "source": [
    "time_step_list = time_step_list * scale_function(T_list)"
   ]
  },
  {
   "cell_type": "code",
   "execution_count": null,
   "id": "b6a2fff3",
   "metadata": {},
   "outputs": [],
   "source": [
    "plt.plot(T_state_8192[:, :-1], time_state_scaled_8192[:, 1:] - time_state_scaled_8192[:, :-1], 'go', alpha=1, markersize=0.05)\n",
    "plt.plot(T_list, time_step_list, 'bo', alpha=0.05, markersize=0.05)\n",
    "# plt.plot(final_time_scaled.keys(), mean_dt, 'ro', markersize=3)\n",
    "plt.yscale('log')\n",
    "plt.show()"
   ]
  },
  {
   "cell_type": "code",
   "execution_count": null,
   "id": "8921246d",
   "metadata": {},
   "outputs": [],
   "source": [
    "delta_z = z1_train_partial_list - z0_train_list\n",
    "delta_z.shape"
   ]
  },
  {
   "cell_type": "code",
   "execution_count": null,
   "id": "87c626f0",
   "metadata": {},
   "outputs": [],
   "source": [
    "delta_z = z1_train_partial_list - z0_train_list\n",
    "index = np.where((T_list[:, 0] == 500))[0]\n",
    "index_2000 = np.where((T_list[:, 0] == 2000))[0]\n",
    "fig = plt.figure(figsize=(40, 6))\n",
    "for i in range(6):\n",
    "    axes = fig.add_subplot(1, 6, i+1)\n",
    "\n",
    "    sns.histplot((delta_z[index, :, i]).flatten() / np.sqrt(time_step_list[index]).flatten(),\n",
    "                 ax=axes, kde=True, bins=50, alpha=0.5, color='tab:orange', label='Partial Sampling', stat='density')\n",
    "\n",
    "    sns.histplot((delta_z[index_2000, :, i]).flatten() / np.sqrt(time_step_list[index_2000]).flatten(),\n",
    "                 ax=axes, kde=True, bins=50, color='skyblue', alpha=0.7, stat='density')\n",
    "\n",
    "    axes.set_title(f'Component {i}')\n",
    "    axes.set_xlabel('Normalized Delta')\n",
    "    axes.set_ylabel('Density')\n",
    "\n",
    "plt.tight_layout()\n",
    "plt.show()"
   ]
  },
  {
   "cell_type": "code",
   "execution_count": null,
   "id": "ba9df8a5",
   "metadata": {},
   "outputs": [],
   "source": [
    "z0_train_list = torch.tensor(z0_train_list, dtype=torch.float32)\n",
    "z1_train_partial_list = torch.tensor(z1_train_partial_list, dtype=torch.float32)\n",
    "time_step_list = torch.tensor(time_step_list, dtype=torch.float32)\n",
    "T_list = torch.tensor(T_list, dtype=torch.int32)\n",
    "\n",
    "torch.save(z0_train_list, f'{folder}/z0_train.pt')\n",
    "torch.save(z1_train_partial_list, f'{folder}/z1_train_partial.pt')\n",
    "torch.save(time_step_list, f'{folder}/time_step.pt')\n",
    "torch.save(T_list, f'{folder}/T.pt')"
   ]
  },
  {
   "cell_type": "code",
   "execution_count": null,
   "id": "add8adb9",
   "metadata": {},
   "outputs": [],
   "source": [
    "folder "
   ]
  },
  {
   "cell_type": "code",
   "execution_count": null,
   "id": "7cec4f43",
   "metadata": {},
   "outputs": [],
   "source": []
  }
 ],
 "metadata": {
  "kernelspec": {
   "display_name": "torchenv",
   "language": "python",
   "name": "python3"
  },
  "language_info": {
   "codemirror_mode": {
    "name": "ipython",
    "version": 3
   },
   "file_extension": ".py",
   "mimetype": "text/x-python",
   "name": "python",
   "nbconvert_exporter": "python",
   "pygments_lexer": "ipython3",
   "version": "3.9.21"
  }
 },
 "nbformat": 4,
 "nbformat_minor": 5
}
