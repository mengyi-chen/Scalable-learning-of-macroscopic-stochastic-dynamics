{
 "cells": [
  {
   "cell_type": "code",
   "execution_count": 1,
   "id": "9d07022b",
   "metadata": {},
   "outputs": [],
   "source": [
    "import torch\n",
    "import numpy as np\n",
    "import sys,os\n",
    "import matplotlib.pyplot as plt\n",
    "sys.path.append('..')\n",
    "from utils.utils import set_seed\n",
    "import warnings\n",
    "from scipy.interpolate import interp1d\n",
    "warnings.filterwarnings(\"ignore\")\n",
    "import pickle"
   ]
  },
  {
   "cell_type": "code",
   "execution_count": 2,
   "id": "cd284d57",
   "metadata": {},
   "outputs": [],
   "source": [
    "device = torch.device(\"cuda:7\" if torch.cuda.is_available() else \"cpu\")\n",
    "AE_model = torch.load('../checkpoints/AE_dim_4_2025_09_04_08:12:13/model.pt', map_location=device)\n",
    "test_data = {}\n",
    "with torch.no_grad():\n",
    "    for path in os.listdir('../test_data'):\n",
    "        key = path.split('.pt')[0]\n",
    "        file_path = os.path.join('../test_data', path)\n",
    "        data = torch.load(file_path, map_location=device)\n",
    "        latent = []\n",
    "        for tra in data:\n",
    "            z = AE_model.encoder(tra)\n",
    "            latent.append(z)\n",
    "\n",
    "        latent = torch.stack(latent, dim=0)\n",
    "        latent = (latent - AE_model.mean) / AE_model.std\n",
    "        test_data[key] = latent"
   ]
  },
  {
   "cell_type": "code",
   "execution_count": 3,
   "id": "9195ea7e",
   "metadata": {},
   "outputs": [
    {
     "data": {
      "text/plain": [
       "9"
      ]
     },
     "execution_count": 3,
     "metadata": {},
     "output_type": "execute_result"
    }
   ],
   "source": [
    "len(test_data.keys())"
   ]
  },
  {
   "cell_type": "code",
   "execution_count": 4,
   "id": "486278a8",
   "metadata": {},
   "outputs": [
    {
     "name": "stdout",
     "output_type": "stream",
     "text": [
      "Load model from ../checkpoints/SDE_SDE_Net_method_ours_coeff_1.0_seed_0/model.pt\n",
      "Load model from ../checkpoints/SDE_SDE_Net_method_ours_coeff_2.5_seed_0/model.pt\n",
      "Load model from ../checkpoints/SDE_SDE_Net_method_ours_coeff_5.0_seed_0/model.pt\n",
      "Load model from ../checkpoints/SDE_SDE_Net_method_ours_coeff_10.0_seed_0/model.pt\n",
      "Load model from ../checkpoints/SDE_SDE_Net_method_ours_coeff_20.0_seed_0/model.pt\n"
     ]
    }
   ],
   "source": [
    "model_dict = {}\n",
    "coeff_list = [1, 2.5, 5, 10, 15, 20]\n",
    "# seed_list = [0, 1, 2]\n",
    "seed_list = [0]\n",
    "for coeff in coeff_list:\n",
    "    for seed in seed_list:\n",
    "        for path in os.listdir('../checkpoints'):\n",
    "            if f'seed_{seed}' in path and f'coeff_{coeff:.1f}' in path:\n",
    "                ckpt_path = os.path.join('../checkpoints', path, 'model.pt')\n",
    "                model = torch.load(ckpt_path, map_location=device)\n",
    "                print(f'Load model from {ckpt_path}')\n",
    "                break\n",
    "        model_dict[f'coeff_{coeff}_seed_{seed}'] = model"
   ]
  },
  {
   "cell_type": "code",
   "execution_count": 5,
   "id": "a3341b1a",
   "metadata": {},
   "outputs": [
    {
     "name": "stderr",
     "output_type": "stream",
     "text": [
      "100%|██████████| 2999/2999 [00:00<00:00, 3938.60it/s]\n",
      "100%|██████████| 2999/2999 [00:00<00:00, 4167.91it/s]\n",
      "100%|██████████| 2999/2999 [00:00<00:00, 4150.56it/s]\n",
      "100%|██████████| 2999/2999 [00:00<00:00, 4172.66it/s]\n",
      "100%|██████████| 2999/2999 [00:00<00:00, 4159.26it/s]\n",
      "100%|██████████| 2999/2999 [00:00<00:00, 4173.91it/s]\n",
      "100%|██████████| 2999/2999 [00:00<00:00, 4203.94it/s]\n",
      "100%|██████████| 2999/2999 [00:00<00:00, 4155.51it/s]\n",
      "100%|██████████| 2999/2999 [00:00<00:00, 4110.24it/s]\n",
      "100%|██████████| 2999/2999 [00:00<00:00, 3966.79it/s]\n",
      "100%|██████████| 2999/2999 [00:00<00:00, 4090.13it/s]\n",
      "100%|██████████| 2999/2999 [00:00<00:00, 4131.39it/s]\n",
      "100%|██████████| 2999/2999 [00:00<00:00, 4097.77it/s]\n",
      "100%|██████████| 2999/2999 [00:00<00:00, 4131.29it/s]\n",
      "100%|██████████| 2999/2999 [00:00<00:00, 4133.92it/s]\n",
      "100%|██████████| 2999/2999 [00:00<00:00, 4161.33it/s]\n",
      "100%|██████████| 2999/2999 [00:00<00:00, 4189.05it/s]\n",
      "100%|██████████| 2999/2999 [00:00<00:00, 4171.09it/s]\n",
      "100%|██████████| 2999/2999 [00:00<00:00, 4219.37it/s]\n",
      "100%|██████████| 2999/2999 [00:00<00:00, 4136.97it/s]\n",
      "100%|██████████| 2999/2999 [00:00<00:00, 4157.48it/s]\n",
      "100%|██████████| 2999/2999 [00:00<00:00, 4186.24it/s]\n",
      "100%|██████████| 2999/2999 [00:00<00:00, 4153.22it/s]\n",
      "100%|██████████| 2999/2999 [00:00<00:00, 4183.50it/s]\n",
      "100%|██████████| 2999/2999 [00:00<00:00, 4205.96it/s]\n",
      "100%|██████████| 2999/2999 [00:00<00:00, 4127.78it/s]\n",
      "100%|██████████| 2999/2999 [00:00<00:00, 4216.79it/s]\n",
      "100%|██████████| 2999/2999 [00:00<00:00, 4182.12it/s]\n",
      "100%|██████████| 2999/2999 [00:00<00:00, 4182.90it/s]\n",
      "100%|██████████| 2999/2999 [00:00<00:00, 4199.34it/s]\n",
      "100%|██████████| 2999/2999 [00:00<00:00, 4123.60it/s]\n",
      "100%|██████████| 2999/2999 [00:00<00:00, 4151.92it/s]\n",
      "100%|██████████| 2999/2999 [00:00<00:00, 4123.47it/s]\n",
      "100%|██████████| 2999/2999 [00:00<00:00, 4174.28it/s]\n",
      "100%|██████████| 2999/2999 [00:00<00:00, 4106.58it/s]\n",
      "100%|██████████| 2999/2999 [00:00<00:00, 4153.22it/s]\n",
      "100%|██████████| 2999/2999 [00:00<00:00, 4176.88it/s]\n",
      "100%|██████████| 2999/2999 [00:00<00:00, 4224.49it/s]\n",
      "100%|██████████| 2999/2999 [00:00<00:00, 4193.04it/s]\n",
      "100%|██████████| 2999/2999 [00:00<00:00, 4061.54it/s]\n",
      "100%|██████████| 2999/2999 [00:00<00:00, 4139.83it/s]\n",
      "100%|██████████| 2999/2999 [00:00<00:00, 4172.32it/s]\n",
      "100%|██████████| 2999/2999 [00:00<00:00, 4174.23it/s]\n",
      "100%|██████████| 2999/2999 [00:00<00:00, 4227.17it/s]\n",
      "100%|██████████| 2999/2999 [00:00<00:00, 4216.44it/s]\n",
      "100%|██████████| 2999/2999 [00:00<00:00, 4219.03it/s]\n",
      "100%|██████████| 2999/2999 [00:00<00:00, 4201.34it/s]\n",
      "100%|██████████| 2999/2999 [00:00<00:00, 4117.09it/s]\n",
      "100%|██████████| 2999/2999 [00:00<00:00, 4209.03it/s]\n",
      "100%|██████████| 2999/2999 [00:00<00:00, 4206.57it/s]\n",
      "100%|██████████| 2999/2999 [00:00<00:00, 4141.14it/s]\n",
      "100%|██████████| 2999/2999 [00:00<00:00, 4174.43it/s]\n",
      "100%|██████████| 2999/2999 [00:00<00:00, 4154.34it/s]\n",
      "100%|██████████| 2999/2999 [00:00<00:00, 4140.30it/s]\n"
     ]
    }
   ],
   "source": [
    "# ========== calculate error ==============\n",
    "pred_dict = {}\n",
    "with torch.no_grad():\n",
    "    for key, model in model_dict.items():\n",
    "        pred_list = []\n",
    "        for _, true_tra in test_data.items():\n",
    "            \n",
    "            # pred_tra = model.predict((true_tra[:, 0, :] - AE_model.mean) / AE_model.std, true_tra.shape[1])\n",
    "            pred_tra = model.predict(true_tra[:, 0, :], true_tra.shape[1])\n",
    "            # pred_tra = pred_tra * AE_model.std + AE_model.mean\n",
    "\n",
    "            pred_list.append(pred_tra)\n",
    "            \n",
    "        pred_dict[key] = pred_list"
   ]
  },
  {
   "cell_type": "code",
   "execution_count": 6,
   "id": "b1c63d33",
   "metadata": {},
   "outputs": [],
   "source": [
    "mmd_dict = {}\n",
    "for key, pred_list in pred_dict.items():\n",
    "    mmd_list = []\n",
    "    for i, (_, true_tra) in enumerate(test_data.items()):\n",
    "        pred_tra = pred_list[i].cpu().numpy()\n",
    "        true_tra = true_tra.cpu().numpy()\n",
    "        \n",
    "        # Compute temporal MMD - MMD for each time step\n",
    "        temporal_mmd_list = []\n",
    "        for t in range(pred_tra.shape[1]):  # iterate over time steps (3000)\n",
    "            # Get data at time step t: shape [50, 4]\n",
    "            pred_t = pred_tra[:, t, :]  # [50, 4]\n",
    "            true_t = true_tra[:, t, :]  # [50, 4]\n",
    "            \n",
    "            # Compute MMD for this time step\n",
    "            xx, yy, zz = np.matmul(pred_t, pred_t.T), np.matmul(true_t, true_t.T), np.matmul(pred_t, true_t.T)\n",
    "            rx = (xx.diagonal().reshape([pred_t.shape[0], 1]))\n",
    "            ry = (yy.diagonal().reshape([true_t.shape[0], 1]))\n",
    "            dxx = rx + rx.T - 2*xx\n",
    "            dyy = ry + ry.T - 2*yy\n",
    "            dxy = rx + ry.T - 2*zz\n",
    "\n",
    "            # Multi-scale RBF kernels with different bandwidths\n",
    "            sigmas = [0.25, 0.5, 1.0, 2.0, 4.0, 8.0]\n",
    "            mmd_t = 0\n",
    "            for sigma in sigmas:\n",
    "                XX = np.exp(-dxx / (2 * sigma**2))\n",
    "                YY = np.exp(-dyy / (2 * sigma**2))\n",
    "                XY = np.exp(-dxy / (2 * sigma**2))\n",
    "                mmd_t += XX.mean() + YY.mean() - 2*XY.mean()\n",
    "            \n",
    "            mmd_t /= len(sigmas)  # Average over all kernels\n",
    "            temporal_mmd_list.append(mmd_t)\n",
    "        \n",
    "        # Take mean over all time steps\n",
    "        temporal_mmd = np.mean(temporal_mmd_list)\n",
    "        mmd_list.append({\n",
    "            'temporal_mmd': temporal_mmd,\n",
    "            'mmd_per_timestep': temporal_mmd_list\n",
    "        })\n",
    "    mmd_dict[key] = mmd_list"
   ]
  },
  {
   "cell_type": "code",
   "execution_count": 7,
   "id": "3f349215",
   "metadata": {},
   "outputs": [],
   "source": [
    "# Save mmd_dict to a file\n",
    "with open('mmd_dict.pkl', 'wb') as f:\n",
    "    pickle.dump(mmd_dict, f)"
   ]
  }
 ],
 "metadata": {
  "kernelspec": {
   "display_name": "testenv",
   "language": "python",
   "name": "python3"
  },
  "language_info": {
   "codemirror_mode": {
    "name": "ipython",
    "version": 3
   },
   "file_extension": ".py",
   "mimetype": "text/x-python",
   "name": "python",
   "nbconvert_exporter": "python",
   "pygments_lexer": "ipython3",
   "version": "3.9.21"
  }
 },
 "nbformat": 4,
 "nbformat_minor": 5
}
