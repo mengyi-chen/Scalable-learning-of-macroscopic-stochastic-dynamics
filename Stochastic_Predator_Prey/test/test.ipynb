{
 "cells": [
  {
   "cell_type": "code",
   "execution_count": null,
   "id": "9d07022b",
   "metadata": {},
   "outputs": [],
   "source": [
    "import torch\n",
    "import numpy as np\n",
    "import sys,os\n",
    "import matplotlib.pyplot as plt\n",
    "sys.path.append('..')\n",
    "from utils.utils import set_seed\n",
    "import warnings\n",
    "from scipy.interpolate import interp1d\n",
    "warnings.filterwarnings(\"ignore\")\n",
    "import pickle"
   ]
  },
  {
   "cell_type": "code",
   "execution_count": null,
   "id": "cd284d57",
   "metadata": {},
   "outputs": [],
   "source": [
    "device = torch.device(\"cuda:3\" if torch.cuda.is_available() else \"cpu\")\n",
    "AE_model = torch.load('../checkpoints/AE_dim_4_2025_10_01_08:36:42/model.pt', map_location=device)\n",
    "test_data = {}\n",
    "with torch.no_grad():\n",
    "    for path in os.listdir('../raw_data/test_data'):\n",
    "        key = path.split('.pt')[0]\n",
    "        file_path = os.path.join('../raw_data/test_data', path)\n",
    "        data = torch.load(file_path, map_location=device)\n",
    "        latent = []\n",
    "        for tra in data:\n",
    "            z = AE_model.encoder(tra)\n",
    "            latent.append(z)\n",
    "\n",
    "        latent = torch.stack(latent, dim=0)\n",
    "        latent = (latent - AE_model.mean) / AE_model.std\n",
    "        test_data[key] = latent"
   ]
  },
  {
   "cell_type": "code",
   "execution_count": null,
   "id": "9195ea7e",
   "metadata": {},
   "outputs": [],
   "source": [
    "len(test_data.keys())"
   ]
  },
  {
   "cell_type": "code",
   "execution_count": null,
   "id": "486278a8",
   "metadata": {},
   "outputs": [],
   "source": [
    "model_dict = {}\n",
    "coeff_list = [1, 2.5, 5, 10, 15, 20]\n",
    "seed_list = [0, 1, 2]\n",
    "# seed_list = [0]\n",
    "for coeff in coeff_list:\n",
    "    for seed in seed_list:\n",
    "        for path in os.listdir('../checkpoints'):\n",
    "            if f'seed_{seed}' in path and f'coeff_{coeff:.1f}' in path:\n",
    "                ckpt_path = os.path.join('../checkpoints', path, 'model.pt')\n",
    "                model = torch.load(ckpt_path, map_location=device)\n",
    "                print(f'Load model from {ckpt_path}')\n",
    "                break\n",
    "        model_dict[f'coeff_{coeff}_seed_{seed}'] = model"
   ]
  },
  {
   "cell_type": "code",
   "execution_count": null,
   "id": "a3341b1a",
   "metadata": {},
   "outputs": [],
   "source": [
    "# ========== calculate error ==============\n",
    "pred_dict = {}\n",
    "with torch.no_grad():\n",
    "    for key, model in model_dict.items():\n",
    "        pred_list = []\n",
    "        for _, true_tra in test_data.items():\n",
    "            \n",
    "            pred_tra = model.predict(true_tra[:, 0, :], true_tra.shape[1])\n",
    "            pred_list.append(pred_tra)\n",
    "            \n",
    "        pred_dict[key] = pred_list"
   ]
  },
  {
   "cell_type": "code",
   "execution_count": null,
   "id": "b1c63d33",
   "metadata": {},
   "outputs": [],
   "source": [
    "mmd_dict = {}\n",
    "for key, pred_list in pred_dict.items():\n",
    "    mmd_list = []\n",
    "    for i, (_, true_tra) in enumerate(test_data.items()):\n",
    "        pred_tra = pred_list[i].cpu().numpy()\n",
    "        true_tra = true_tra.cpu().numpy()\n",
    "        \n",
    "        # Compute temporal MMD - MMD for each time step\n",
    "        temporal_mmd_list = []\n",
    "        for t in range(pred_tra.shape[1]):  # iterate over time steps (3000)\n",
    "            # Get data at time step t: shape [50, 4]\n",
    "            pred_t = pred_tra[:, t, :]  # [50, 4]\n",
    "            true_t = true_tra[:, t, :]  # [50, 4]\n",
    "            \n",
    "            # Compute MMD for this time step\n",
    "            xx, yy, zz = np.matmul(pred_t, pred_t.T), np.matmul(true_t, true_t.T), np.matmul(pred_t, true_t.T)\n",
    "            rx = (xx.diagonal().reshape([pred_t.shape[0], 1]))\n",
    "            ry = (yy.diagonal().reshape([true_t.shape[0], 1]))\n",
    "            dxx = rx + rx.T - 2*xx\n",
    "            dyy = ry + ry.T - 2*yy\n",
    "            dxy = rx + ry.T - 2*zz\n",
    "\n",
    "            # Multi-scale RBF kernels with different bandwidths\n",
    "            sigmas = [0.25, 0.5, 1.0, 2.0, 4.0, 8.0]\n",
    "            mmd_t = 0\n",
    "            for sigma in sigmas:\n",
    "                XX = np.exp(-dxx / (2 * sigma**2))\n",
    "                YY = np.exp(-dyy / (2 * sigma**2))\n",
    "                XY = np.exp(-dxy / (2 * sigma**2))\n",
    "                mmd_t += XX.mean() + YY.mean() - 2*XY.mean()\n",
    "            \n",
    "            mmd_t /= len(sigmas)  # Average over all kernels\n",
    "            temporal_mmd_list.append(mmd_t)\n",
    "        \n",
    "        # Take mean over all time steps\n",
    "        temporal_mmd = np.mean(temporal_mmd_list)\n",
    "        mmd_list.append({\n",
    "            'temporal_mmd': temporal_mmd,\n",
    "            'mmd_per_timestep': temporal_mmd_list\n",
    "        })\n",
    "    mmd_dict[key] = mmd_list"
   ]
  },
  {
   "cell_type": "code",
   "execution_count": null,
   "id": "7c9efe43",
   "metadata": {},
   "outputs": [],
   "source": [
    "mmd_dict.keys()"
   ]
  },
  {
   "cell_type": "code",
   "execution_count": null,
   "id": "3f349215",
   "metadata": {},
   "outputs": [],
   "source": [
    "# Save mmd_dict to a file\n",
    "with open('mmd_dict.pkl', 'wb') as f:\n",
    "    pickle.dump(mmd_dict, f)"
   ]
  },
  {
   "cell_type": "code",
   "execution_count": null,
   "id": "48bd6142",
   "metadata": {},
   "outputs": [],
   "source": []
  }
 ],
 "metadata": {
  "kernelspec": {
   "display_name": "testenv",
   "language": "python",
   "name": "python3"
  },
  "language_info": {
   "codemirror_mode": {
    "name": "ipython",
    "version": 3
   },
   "file_extension": ".py",
   "mimetype": "text/x-python",
   "name": "python",
   "nbconvert_exporter": "python",
   "pygments_lexer": "ipython3",
   "version": "3.9.21"
  }
 },
 "nbformat": 4,
 "nbformat_minor": 5
}
