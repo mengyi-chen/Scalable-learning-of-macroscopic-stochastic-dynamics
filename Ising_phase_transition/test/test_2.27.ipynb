{
 "cells": [
  {
   "cell_type": "code",
   "execution_count": null,
   "id": "55734fd0",
   "metadata": {},
   "outputs": [],
   "source": [
    "import pandas as pd\n",
    "import numpy as np\n",
    "import matplotlib.pyplot as plt\n",
    "import torch\n",
    "import os, sys\n",
    "sys.path.append('../')\n",
    "import seaborn as sns\n",
    "import warnings\n",
    "from utils.utils import set_seed\n",
    "import pickle\n",
    "warnings.filterwarnings(\"ignore\")\n",
    "set_seed(42)"
   ]
  },
  {
   "cell_type": "code",
   "execution_count": null,
   "id": "7a89f10c",
   "metadata": {},
   "outputs": [],
   "source": [
    "def cal_mag_susceptibility(M, L, T=2.27):\n",
    "    M = np.abs(M)  \n",
    "    mag_susceptibility = np.mean(M ** 2) - np.mean(M) ** 2\n",
    "    mag_susceptibility = mag_susceptibility * L ** 2 / T \n",
    "    return mag_susceptibility"
   ]
  },
  {
   "cell_type": "code",
   "execution_count": null,
   "id": "4c432253",
   "metadata": {},
   "outputs": [],
   "source": [
    "device = torch.device('cuda:7')"
   ]
  },
  {
   "cell_type": "code",
   "execution_count": null,
   "id": "ccb79fc6",
   "metadata": {},
   "outputs": [],
   "source": [
    "M_equilibrium = {}\n",
    "predict_tra = {}\n",
    "M_predict = {}\n",
    "\n",
    "\n",
    "L_list = [16, 32, 64, 128]\n",
    "for L in L_list:\n",
    "    predict_tra[f'L{L}'] = []\n",
    "    M_predict[f'L{L}'] = []"
   ]
  },
  {
   "cell_type": "code",
   "execution_count": null,
   "id": "f6ba70e2",
   "metadata": {},
   "outputs": [],
   "source": [
    "length = 32000\n",
    "folder = '../checkpoints_T_2.27/'\n",
    "paths = os.listdir(folder)\n",
    "with torch.no_grad():\n",
    "    for L in L_list:\n",
    "        \n",
    "        ckpt_paths = [os.path.join('../checkpoints_T_2.27/', path) for path in paths if f'L_{L}' in path and 'SDE' in path]\n",
    "        ckpt_paths = [os.path.join(path, 'model.pt') for path in ckpt_paths]\n",
    "        \n",
    "        for ckpt_path in ckpt_paths: \n",
    "            model = torch.load(ckpt_path, map_location=device)\n",
    "            z0_train = torch.load(f'../data/ising_patch_L_16_L_{L}_T_2.27/z0_train.pt', map_location=device)\n",
    "            if L == 16:\n",
    "                train_dt = torch.load(f'../raw_data/L{L}_MC32000_h0.0_T2.27/time_step_train.pt', map_location=device) # [n_tra, length_per_tra]\n",
    "            else:\n",
    "                train_dt = torch.load(f'../raw_data_upsample/scaleup_L{L}_h0.0_T2.27/time_step_train_partial.pt', map_location=device) # [n_tra, length_per_tra]\n",
    "\n",
    "            val_dt = torch.load(f'../raw_data/L{L}_MC32000_h0.0_T2.27/time_step_val.pt', map_location=device)\n",
    "            mean_train_dt = torch.mean(train_dt)\n",
    "            val_dt = val_dt / mean_train_dt\n",
    "            mean_dt = torch.mean(val_dt)\n",
    "            \n",
    "            initial = z0_train[:, 0]\n",
    "            predict = model.predict(initial, length, dt=mean_dt)\n",
    "\n",
    "            nan_mask = torch.isnan(predict).any(dim=(1, 2))  # Check for NaN across time and feature dimensions\n",
    "            if nan_mask.any():\n",
    "                print(f'Found {nan_mask.sum().item()} trajectories with NaN values, removing them...')\n",
    "                predict = predict[~nan_mask]  # Keep only trajectories without NaN\n",
    "                print(f'Remaining trajectories: {predict.shape[0]}')\n",
    "            \n",
    "            predict_tra[f'L{L}'].append(predict)\n",
    "\n",
    "\n",
    "            M_equilibrium[f'L{L}'] = torch.load(f'../raw_data/L{L}_MC32000_h0.0_T2.27/M_equilibrium.pt').detach().cpu().numpy()\n",
    "            M = predict[:, (length // 2):, 0].detach().cpu().numpy()\n",
    "            M = np.abs(M)\n",
    "            M = np.clip(M, 0, 1)\n",
    "            M_predict[f'L{L}'].append(M)"
   ]
  },
  {
   "cell_type": "code",
   "execution_count": null,
   "id": "07d0a96c",
   "metadata": {},
   "outputs": [],
   "source": [
    "# dump the results\n",
    "with open('plot_data/M_equilibrium_T_2.27.pkl', 'wb') as f:\n",
    "    pickle.dump(M_equilibrium, f)\n",
    "with open('plot_data/M_predict_T_2.27.pkl', 'wb') as f:\n",
    "    pickle.dump(M_predict, f)"
   ]
  }
 ],
 "metadata": {
  "kernelspec": {
   "display_name": "torchenv",
   "language": "python",
   "name": "python3"
  },
  "language_info": {
   "codemirror_mode": {
    "name": "ipython",
    "version": 3
   },
   "file_extension": ".py",
   "mimetype": "text/x-python",
   "name": "python",
   "nbconvert_exporter": "python",
   "pygments_lexer": "ipython3",
   "version": "3.9.21"
  }
 },
 "nbformat": 4,
 "nbformat_minor": 5
}
